{
 "cells": [
  {
   "cell_type": "code",
   "execution_count": 1,
   "metadata": {},
   "outputs": [
    {
     "data": {
      "text/html": [
       "<style>.container { width:100% !important; }</style>"
      ],
      "text/plain": [
       "<IPython.core.display.HTML object>"
      ]
     },
     "metadata": {},
     "output_type": "display_data"
    }
   ],
   "source": [
    "%matplotlib tk\n",
    "import matplotlib\n",
    "import matplotlib.pyplot as plt\n",
    "from IPython.core.display import display, HTML\n",
    "display(HTML(\"<style>.container { width:100% !important; }</style>\"))\n",
    "import numpy as np\n",
    "import scipy.io as sio\n",
    "import h5py\n",
    "import time as time\n",
    "import scipy.optimize as opt\n",
    "import os\n",
    "import scipy\n",
    "from tqdm import tqdm\n",
    "import scipy.ndimage\n",
    "from matplotlib import colors\n",
    "\n",
    "import parmap\n",
    "import glob\n",
    "from scipy.spatial import distance\n",
    "\n",
    "import torch\n",
    "from torch import nn\n",
    "from torch.autograd import Variable\n",
    "device = torch.device(\"cuda:0\" if torch.cuda.is_available() else \"cpu\")"
   ]
  },
  {
   "cell_type": "code",
   "execution_count": 13,
   "metadata": {},
   "outputs": [],
   "source": [
    "def svd_denoise(rank, u, Vs, fname):\n",
    "    denoised=(u[:,:rank] @ Vs[:rank].transpose(1,2,0)[:,:,:,None]).squeeze()\n",
    "\n",
    "    ctr=0\n",
    "    for k in range(0,5000,500):\n",
    "        ax=plt.subplot(2,5,ctr+1)\n",
    "        plt.imshow(denoised[:,:,k],vmin=-50.0,vmax=50.0)\n",
    "        ctr+=1\n",
    "    plt.show()\n",
    "    \n",
    "    root_dir = os.path.split(fname)[0]\n",
    "    np.save(root_dir + '/denoised.npy', denoised)\n",
    "\n",
    "    return denoised\n",
    "\n",
    "def svd_gpu(data, fname):\n",
    "    \n",
    "    data_in = data#.transpose(2,0,1)#.transpose(2,0,1)\n",
    "    print (\"Data in: \", data_in.shape)\n",
    "    data_in = np.float32(data_in)\n",
    "    data_in = data_in.reshape(data_in.shape[0],-1)\n",
    "    print (\" Data going into GPU SVD: \", data_in.shape)\n",
    "\n",
    "    root_dir = os.path.split(fname)[0]\n",
    "    \n",
    "    if os.path.exists(root_dir+'/v_gpu.pt')==False:\n",
    "\n",
    "        a = torch.from_numpy(np.float32(data_in)).float().to(device)\n",
    "        print (\"Input array size: \", a.shape)\n",
    "        print (\"...starting GPU-svd\")\n",
    "        u, s, v = torch.svd(a)\n",
    "\n",
    "        print (\"u: \", u.shape)\n",
    "        print (\"s: \", s.shape)\n",
    "        print (\"v: \", v.shape)\n",
    "\n",
    "        # scale temporal component by singular vals\n",
    "\n",
    "        torch.save(v,root_dir+'/v_gpu.pt')\n",
    "        torch.save(s,root_dir+'/s_gpu.pt')\n",
    "        torch.save(u,root_dir+'/u_gpu.pt')\n",
    "\n",
    "        v = v.cpu().data.numpy()\n",
    "        s = s.cpu().data.numpy()\n",
    "        u = u.cpu().data.numpy()\n",
    "\n",
    "        np.save(root_dir+'/v.npy',v)\n",
    "        np.save(root_dir+'/s.npy',s)\n",
    "        np.save(root_dir+'/u.npy',u)\n",
    "\n",
    "    #     Vs = (v*s).transpose(1,0).reshape(-1,128,128)\n",
    "    #     np.save(root_dir+'Vs.npy',Vs)\n",
    "\n",
    "    else:\n",
    "        print (\"loading from disk\")\n",
    "\n",
    "        try: \n",
    "            v = np.load(root_dir+'/v.npy')\n",
    "            s = np.load(root_dir+'/s.npy')\n",
    "            u = np.load(root_dir+'/u.npy')\n",
    "\n",
    "        except:\n",
    "\n",
    "            u = torch.load(root_dir+'/u_gpu.pt').cpu().data.numpy()\n",
    "            s = torch.load(root_dir+'/s_gpu.pt').cpu().data.numpy()\n",
    "            v = torch.load(root_dir+'/v_gpu.pt').cpu().data.numpy()\n",
    "\n",
    "            np.save(root_dir+'/v.npy',v)\n",
    "            np.save(root_dir+'/s.npy',s)\n",
    "            np.save(root_dir+'/u.npy',u)    \n",
    "\n",
    "    Vs = (v*s).transpose(1,0).reshape(-1,128,128)\n",
    "    np.save(root_dir+'/Vs.npy',Vs)\n",
    "\n",
    "    print (\"Vs: \", Vs.shape)\n",
    "    print (\"u: \", u.shape)\n",
    "    print (\"DONE\")\n",
    "\n",
    "    return u, Vs"
   ]
  },
  {
   "cell_type": "code",
   "execution_count": 77,
   "metadata": {},
   "outputs": [
    {
     "name": "stdout",
     "output_type": "stream",
     "text": [
      "['baseline', 'csd']\n",
      "(128, 128, 5000)\n"
     ]
    }
   ],
   "source": [
    "#root_dir = '/media/cat/1TB/Dropbox/Alex/Alexander McGirr - iGluSnFR_CSD_Cohort6_DC2/Cohort6_DC2/Baseline/'\n",
    "#root_dir = '/media/cat/1TB/Dropbox/Alex/Alexander McGirr - iGluSnFR_CSD_Cohort6_DC2/Cohort6_DC2/Post-CSD/CSD/'\n",
    "# home = '/media/cat/1TB/Dropbox/Alex/Alexander McGirr - iGluSnFR_CSD_Cohort4_1'\n",
    "# root_dirs = os.listdir(home)\n",
    "# print (root_dirs)\n",
    "# root_dir = root_dirs[1]\n",
    "# print (root_dir)\n",
    "\n",
    "# print (home+'/'+root_dir + '/control/control*')\n",
    "# fname = glob.glob(home+'/'+root_dir + '/control/control*')[1]\n",
    "# print (fname)\n",
    "\n",
    "root_dir = '/media/cat/1TB/Dropbox/Alex/Alexander McGirr - iGluSnFR_CSD_A1/'\n",
    "fnames = os.listdir(root_dir)\n",
    "print (fnames)\n",
    "\n",
    "\n",
    "data = np.load(root_dir + fnames[1]+'/'+'csd_5000frames.npy')\n",
    "print (data.shape)\n",
    "\n",
    "\n",
    "fname = '/media/cat/1TB/Dropbox/Alex/Alexander McGirr - iGluSnFR_CSD_A1/csd/csd_5000frames.npy'\n",
    "data = np.load(fname)\n",
    "# plt.imshow(data[:,:,0])\n",
    "# plt.show()"
   ]
  },
  {
   "cell_type": "code",
   "execution_count": 78,
   "metadata": {},
   "outputs": [
    {
     "name": "stdout",
     "output_type": "stream",
     "text": [
      "Data in:  (5000, 128, 128)\n",
      " Data going into GPU SVD:  (5000, 16384)\n",
      "loading from disk\n",
      "Vs:  (5000, 128, 128)\n",
      "u:  (5000, 5000)\n",
      "DONE\n"
     ]
    }
   ],
   "source": [
    "# compute SVD on data \n",
    "u, Vs = svd_gpu(data.transpose(2,0,1), fname)\n"
   ]
  },
  {
   "cell_type": "code",
   "execution_count": 79,
   "metadata": {},
   "outputs": [],
   "source": [
    "# denoise the data usinv SVD up to fixed rank\n",
    "rank=50\n",
    "denoised = svd_denoise(rank, u, Vs, fname)\n"
   ]
  },
  {
   "cell_type": "code",
   "execution_count": 85,
   "metadata": {},
   "outputs": [
    {
     "name": "stdout",
     "output_type": "stream",
     "text": [
      "(900,) (900,) (900,)\n",
      "(900,) (900,) (900,)\n",
      "(900,) (900,) (900,)\n",
      "(900,) (900,) (900,)\n",
      "(900,) (900,) (900,)\n",
      "(900,) (900,) (900,)\n",
      "(900,) (900,) (900,)\n",
      "(900,) (900,) (900,)\n",
      "(900,) (900,) (900,)\n",
      "(900,) (900,) (900,)\n",
      "(900,) (900,) (900,)\n",
      "(900,) (900,) (900,)\n"
     ]
    }
   ],
   "source": [
    "# compute drift from fixed point backwards and forwadr in time\n",
    "\n",
    "root_dirs = ['/media/cat/1TB/Dropbox/Alex/Alexander McGirr - iGluSnFR_CSD_A1',\n",
    "             '/media/cat/1TB/Dropbox/Alex/Alexander McGirr - iGluSnFR_CSD_B4',\n",
    "             '/media/cat/1TB/Dropbox/Alex/Alexander McGirr - iGluSnFR_CSD_Cohort3_4',\n",
    "             '/media/cat/1TB/Dropbox/Alex/Alexander McGirr - iGluSnFR_CSD_Cohort4_1',\n",
    "             '/media/cat/1TB/Dropbox/Alex/Alexander McGirr - iGluSnFR_CSD_Cohort5_2',\n",
    "             '/media/cat/1TB/Dropbox/Alex/Alexander McGirr - iGluSnFR_CSD_Cohort6_DC2']\n",
    "\n",
    "ctr_dir = 0\n",
    "for root_dir in root_dirs:             \n",
    "    fnames = os.listdir(root_dir)\n",
    "\n",
    "    clrs=['blue','red']\n",
    "    ctr=0\n",
    "    fig=plt.figure(figsize=(20,15))\n",
    "    for fname in fnames:\n",
    "        denoised = np.load(root_dir+'/'+fname+'/denoised.npy')\n",
    "\n",
    "        # loop\n",
    "        n_frames = 450\n",
    "        trigger_frames = np.arange(n_frames,5000-n_frames,1)\n",
    "        traces = []\n",
    "        t = np.arange(-n_frames,n_frames,1)/150.\n",
    "        if True:\n",
    "            for trigger_frame in trigger_frames:\n",
    "                trigger_img = denoised[:,:,trigger_frame]\n",
    "\n",
    "                # try to do broadcast subtraction here\n",
    "                diff = denoised[:,:,trigger_frame-n_frames:trigger_frame+n_frames].transpose(2,0,1)-trigger_img\n",
    "\n",
    "                sqrDiff = (diff**2).sum(1)\n",
    "\n",
    "                res = np.sqrt(sqrDiff.sum(axis=1))\n",
    "                traces.append(res)\n",
    "\n",
    "        # broadcast version\n",
    "        else:\n",
    "            print (trigger_frames[None]-n_frames)\n",
    "            print (trigger_frames[None]+n_frames)\n",
    "            diff = denoised[:,:,trigger_frames[None]-n_frames:\n",
    "                                trigger_frames[None]+n_frames].transpose(2,0,1)-trigger_img\n",
    "            print (diff.shape)\n",
    "\n",
    "            sqrDiff = (diff**2).sum(1)\n",
    "\n",
    "            res = np.sqrt(sqrDiff.sum(axis=1))\n",
    "        #traces.append(res)\n",
    "\n",
    "        traces=np.array(traces)\n",
    "        mean = np.mean(traces,axis=0)\n",
    "        std = np.std(traces,axis=0)\n",
    "\n",
    "        print (t.shape, mean.shape, std.shape)\n",
    "        plt.errorbar(t, mean, std, linestyle='None', marker='^', c=clrs[ctr], alpha=.5)\n",
    "\n",
    "        ctr+=1\n",
    "\n",
    "        \n",
    "    #for k in range \n",
    "    plt.xlabel(\"Time (sec)\", fontsize=20)\n",
    "    plt.suptitle(root_dir+'\\nblue: '+fnames[0]+\"    red: \"+fnames[1],fontsize=20)\n",
    "    plt.savefig('/home/cat/'+str(ctr_dir)+'.png')\n",
    "    \n",
    "    plt.close()\n",
    "    ctr_dir+=1"
   ]
  },
  {
   "cell_type": "code",
   "execution_count": null,
   "metadata": {},
   "outputs": [],
   "source": [
    "# plot the drift away from baseline over time; \n",
    "\n"
   ]
  },
  {
   "cell_type": "code",
   "execution_count": 7,
   "metadata": {},
   "outputs": [],
   "source": [
    "Vs = (v*s).transpose(1,0).reshape(-1,128,128)\n",
    "np.save(root_dir+'Vs.npy',Vs)\n"
   ]
  },
  {
   "cell_type": "code",
   "execution_count": 5,
   "metadata": {},
   "outputs": [
    {
     "name": "stdout",
     "output_type": "stream",
     "text": [
      "(39145, 128, 128)\n",
      "(128, 128)\n",
      " Data going into GPU SVD:  (39145, 16384)\n",
      "Input array size:  torch.Size([39145, 16384])\n",
      "...starting GPU-svd\n",
      "u:  torch.Size([39145, 16384])\n",
      "s:  torch.Size([16384])\n",
      "v:  torch.Size([16384, 16384])\n",
      "vs:  torch.Size([16384, 128, 128])\n"
     ]
    }
   ],
   "source": [
    "# compute SVD on dataset to get temporal and spatial components; usually 5-10k frames is more than enough\n",
    "\n",
    "# use GPU\n",
    "\n",
    "if True:\n",
    "    data_in = data_dff\n",
    "    print (data_in.shape)\n",
    "    data_in = np.float32(data_in)\n",
    "    print (data_in.mean(0).shape)\n",
    "\n",
    "    data_in = data_in.reshape(data_in.shape[0],-1)\n",
    "    print (\" Data going into GPU SVD: \", data_in.shape)\n",
    "\n",
    "    a = torch.from_numpy(np.float32(data_in)).float().to(device)\n",
    "    print (\"Input array size: \", a.shape)\n",
    "    print (\"...starting GPU-svd\")\n",
    "    u, s, v = torch.svd(a)\n",
    "\n",
    "# use CPU\n",
    "else:\n",
    "    import sklearn\n",
    "    import sklearn.utils.extmath\n",
    "    data_in = data_dff.reshape(data.shape[0],-1)\n",
    "    print (\" Data going into CPU SVD: \", data_in.shape)\n",
    "\n",
    "    u, s, v = sklearn.utils.extmath.randomized_svd(data_in, 500, n_oversamples=10, n_iter='auto', \n",
    "                                                    power_iteration_normalizer='auto', transpose='auto', \n",
    "                                                    flip_sign=True, random_state=0)\n",
    "\n",
    "print (\"u: \", u.shape)\n",
    "print (\"s: \", s.shape)\n",
    "print (\"v: \", v.shape)\n",
    "\n",
    "# save U x s and V x s matrices correct shapes\n",
    "#Us = u \n",
    "#print (\"us: \", Us.shape)\n",
    "\n",
    "Vs = (v*s).transpose(1,0).reshape(-1,128,128)\n",
    "print (\"vs: \", Vs.shape)\n",
    "    \n",
    "torch.save(Vs,root_dir+'Vs_gpu.npy')\n",
    "torch.save(u,root_dir+'Us_gpu.npy')\n"
   ]
  },
  {
   "cell_type": "code",
   "execution_count": 8,
   "metadata": {},
   "outputs": [],
   "source": [
    "# reload components and save componnents to disk\n",
    "np.save(root_dir + 'Vs_dff_svd500.npy',torch.load(root_dir+'Vs_gpu.npy')[:500].cpu().data.numpy())\n",
    "np.save(root_dir + 'Us_dff_svd500.npy',torch.load(root_dir+'Us_gpu.npy')[:,:500].cpu().data.numpy())"
   ]
  },
  {
   "cell_type": "code",
   "execution_count": 7,
   "metadata": {},
   "outputs": [],
   "source": [
    "Vs = torch.load('/home/cat/Vs.npy')\n",
    "Us = torch.load('/home/cat/Us.npy')"
   ]
  },
  {
   "cell_type": "code",
   "execution_count": 8,
   "metadata": {},
   "outputs": [
    {
     "name": "stdout",
     "output_type": "stream",
     "text": [
      "torch.Size([16384, 128, 128])\n",
      "torch.Size([39145, 16384])\n"
     ]
    }
   ],
   "source": [
    "print (Vs.shape)\n",
    "print (Us.shape)"
   ]
  },
  {
   "cell_type": "code",
   "execution_count": 20,
   "metadata": {},
   "outputs": [],
   "source": [
    "np.save('/home/cat/Vs_dff.npy',Vs.cpu().data.numpy())\n",
    "np.save('/home/cat/Us_dff.npy',Us.cpu().data.numpy())\n"
   ]
  },
  {
   "cell_type": "code",
   "execution_count": 16,
   "metadata": {},
   "outputs": [
    {
     "name": "stdout",
     "output_type": "stream",
     "text": [
      "(39149, 16384)\n",
      "(16384, 128, 128)\n"
     ]
    }
   ],
   "source": [
    "u = np.load('/media/cat/10TB/in_vivo/tim/yuki/IA2/tif_files/IA2pm_Feb1_30Hz/u.npy')\n",
    "print (u.shape)\n",
    "\n",
    "Vs = np.load('/media/cat/10TB/in_vivo/tim/yuki/IA2/tif_files/IA2pm_Feb1_30Hz/Vs.npy')\n",
    "print (Vs.shape)\n"
   ]
  },
  {
   "cell_type": "code",
   "execution_count": 18,
   "metadata": {},
   "outputs": [],
   "source": [
    "plt.imshow(Vs[1])\n",
    "#plt.plot(u[:,:5])\n",
    "plt.show()"
   ]
  },
  {
   "cell_type": "code",
   "execution_count": 7,
   "metadata": {},
   "outputs": [
    {
     "name": "stdout",
     "output_type": "stream",
     "text": [
      "(679, 586, 500)\n"
     ]
    }
   ],
   "source": [
    "data = np.load('/home/cat/Uc.npy')\n",
    "print (data.shape)\n",
    "\n"
   ]
  },
  {
   "cell_type": "code",
   "execution_count": 10,
   "metadata": {},
   "outputs": [],
   "source": [
    "plt.imshow(data[:,:,2])\n",
    "plt.show()"
   ]
  },
  {
   "cell_type": "code",
   "execution_count": null,
   "metadata": {},
   "outputs": [],
   "source": []
  },
  {
   "cell_type": "code",
   "execution_count": 18,
   "metadata": {},
   "outputs": [
    {
     "ename": "RuntimeError",
     "evalue": "CUDA out of memory. Tried to allocate 1024.00 MiB (GPU 0; 11.91 GiB total capacity; 9.17 GiB already allocated; 471.88 MiB free; 960.00 KiB cached)",
     "output_type": "error",
     "traceback": [
      "\u001b[0;31m---------------------------------------------------------------------------\u001b[0m",
      "\u001b[0;31mRuntimeError\u001b[0m                              Traceback (most recent call last)",
      "\u001b[0;32m<ipython-input-18-0a7108193a8e>\u001b[0m in \u001b[0;36m<module>\u001b[0;34m\u001b[0m\n\u001b[0;32m----> 1\u001b[0;31m \u001b[0mnp\u001b[0m\u001b[0;34m.\u001b[0m\u001b[0msave\u001b[0m\u001b[0;34m(\u001b[0m\u001b[0mfname\u001b[0m\u001b[0;34m[\u001b[0m\u001b[0;34m:\u001b[0m\u001b[0;34m-\u001b[0m\u001b[0;36m4\u001b[0m\u001b[0;34m]\u001b[0m\u001b[0;34m+\u001b[0m\u001b[0;34m\"_Uc.npy\"\u001b[0m\u001b[0;34m,\u001b[0m \u001b[0mVs\u001b[0m\u001b[0;34m.\u001b[0m\u001b[0mcpu\u001b[0m\u001b[0;34m(\u001b[0m\u001b[0;34m)\u001b[0m\u001b[0;34m)\u001b[0m\u001b[0;34m\u001b[0m\u001b[0m\n\u001b[0m\u001b[1;32m      2\u001b[0m \u001b[0mnp\u001b[0m\u001b[0;34m.\u001b[0m\u001b[0msave\u001b[0m\u001b[0;34m(\u001b[0m\u001b[0mfname\u001b[0m\u001b[0;34m[\u001b[0m\u001b[0;34m:\u001b[0m\u001b[0;34m-\u001b[0m\u001b[0;36m4\u001b[0m\u001b[0;34m]\u001b[0m\u001b[0;34m+\u001b[0m\u001b[0;34m\"_Uc.npy\"\u001b[0m\u001b[0;34m,\u001b[0m \u001b[0mVs\u001b[0m\u001b[0;34m.\u001b[0m\u001b[0mcpu\u001b[0m\u001b[0;34m(\u001b[0m\u001b[0;34m)\u001b[0m\u001b[0;34m.\u001b[0m\u001b[0mdata\u001b[0m\u001b[0;34m.\u001b[0m\u001b[0mnumpy\u001b[0m\u001b[0;34m(\u001b[0m\u001b[0;34m)\u001b[0m\u001b[0;34m)\u001b[0m\u001b[0;34m\u001b[0m\u001b[0m\n\u001b[1;32m      3\u001b[0m \u001b[0mnp\u001b[0m\u001b[0;34m.\u001b[0m\u001b[0msave\u001b[0m\u001b[0;34m(\u001b[0m\u001b[0mfname\u001b[0m\u001b[0;34m[\u001b[0m\u001b[0;34m:\u001b[0m\u001b[0;34m-\u001b[0m\u001b[0;36m4\u001b[0m\u001b[0;34m]\u001b[0m\u001b[0;34m+\u001b[0m\u001b[0;34m\"_Vc.npy\"\u001b[0m\u001b[0;34m,\u001b[0m \u001b[0mUs\u001b[0m\u001b[0;34m.\u001b[0m\u001b[0mtranspose\u001b[0m\u001b[0;34m(\u001b[0m\u001b[0;36m1\u001b[0m\u001b[0;34m,\u001b[0m\u001b[0;36m0\u001b[0m\u001b[0;34m)\u001b[0m\u001b[0;34m.\u001b[0m\u001b[0mcpu\u001b[0m\u001b[0;34m(\u001b[0m\u001b[0;34m)\u001b[0m\u001b[0;34m.\u001b[0m\u001b[0mdata\u001b[0m\u001b[0;34m.\u001b[0m\u001b[0mnumpy\u001b[0m\u001b[0;34m(\u001b[0m\u001b[0;34m)\u001b[0m\u001b[0;34m)\u001b[0m\u001b[0;34m\u001b[0m\u001b[0m\n\u001b[1;32m      4\u001b[0m \u001b[0;31m#np.save(fname[:-4]+\"_Vc.npy\", Us.transpose(1,0).cpu().data.numpy())\u001b[0m\u001b[0;34m\u001b[0m\u001b[0;34m\u001b[0m\u001b[0m\n",
      "\u001b[0;31mRuntimeError\u001b[0m: CUDA out of memory. Tried to allocate 1024.00 MiB (GPU 0; 11.91 GiB total capacity; 9.17 GiB already allocated; 471.88 MiB free; 960.00 KiB cached)"
     ]
    }
   ],
   "source": [
    "np.save(fname[:-4]+\"_Uc.npy\", Vs.cpu())\n",
    "np.save(fname[:-4]+\"_Uc.npy\", Vs.cpu().data.numpy())\n",
    "np.save(fname[:-4]+\"_Vc.npy\", Us.transpose(1,0).cpu().data.numpy())\n",
    "#np.save(fname[:-4]+\"_Vc.npy\", Us.transpose(1,0).cpu().data.numpy())\n"
   ]
  },
  {
   "cell_type": "code",
   "execution_count": 23,
   "metadata": {},
   "outputs": [
    {
     "name": "stdout",
     "output_type": "stream",
     "text": [
      "{'__header__': b'MATLAB 5.0 MAT-file, Platform: GLNXA64, Created on: Sat Jan 26 13:39:29 2019', '__version__': '1.0', '__globals__': [], 'maskwarp': array([[0, 0, 0, ..., 0, 0, 0],\n",
      "       [0, 0, 0, ..., 0, 0, 0],\n",
      "       [0, 0, 0, ..., 0, 0, 0],\n",
      "       ...,\n",
      "       [0, 0, 0, ..., 0, 0, 0],\n",
      "       [0, 0, 0, ..., 0, 0, 0],\n",
      "       [0, 0, 0, ..., 0, 0, 0]], dtype=uint8)}\n"
     ]
    }
   ],
   "source": [
    "fname = '/home/cat/maskwarp.mat'\n",
    "data = sio.loadmat(fname)\n",
    "print (data)\n",
    "img = data['maskwarp']\n",
    "plt.imshow(img)\n",
    "plt.show()"
   ]
  },
  {
   "cell_type": "code",
   "execution_count": 3,
   "metadata": {},
   "outputs": [
    {
     "name": "stdout",
     "output_type": "stream",
     "text": [
      "(20001, 128, 128)\n"
     ]
    }
   ],
   "source": [
    "#data1 = np.load('/media/cat/10TB/in_vivo/tim/yuki/IA1/tif_files/IA1am_May10_Week5_30Hz/IA1am_May10_Week5_30Hz.npy')\n",
    "#print (data1.shape)\n",
    "\n",
    "data2= np.load('/media/cat/10TB/in_vivo/tim/yuki/AI3/tif_files/AI3_Dec9am_15Hz_8x8/AI3_Dec9am_15Hz_8x8.npy')\n",
    "print (data2.shape)"
   ]
  },
  {
   "cell_type": "code",
   "execution_count": 4,
   "metadata": {},
   "outputs": [],
   "source": [
    "plt.imshow(data2[1000])\n",
    "plt.show()"
   ]
  },
  {
   "cell_type": "code",
   "execution_count": 126,
   "metadata": {},
   "outputs": [
    {
     "name": "stdout",
     "output_type": "stream",
     "text": [
      "[[ 3.410e+00  7.000e-02  0.000e+00]\n",
      " [-7.000e-02  3.410e+00  0.000e+00]\n",
      " [ 4.787e+01  7.370e+01  1.000e+00]]\n"
     ]
    }
   ],
   "source": [
    "rot = np.float32([[3.41, 0.07, 0],\n",
    "       [-0.07, 3.41, 0],\n",
    "       [47.87, 73.70, 1]])\n",
    "print (rot)\n"
   ]
  },
  {
   "cell_type": "code",
   "execution_count": 127,
   "metadata": {},
   "outputs": [
    {
     "name": "stdout",
     "output_type": "stream",
     "text": [
      "[[ 3.410e+00  7.000e-02  0.000e+00]\n",
      " [-7.000e-02  3.410e+00  0.000e+00]\n",
      " [ 4.787e+01  7.370e+01  1.000e+00]]\n",
      "[[ 2.9313159e-01 -6.0173641e-03  0.0000000e+00]\n",
      " [ 6.0173641e-03  2.9313159e-01 -0.0000000e+00]\n",
      " [-1.4475689e+01 -2.1315746e+01  1.0000000e+00]]\n"
     ]
    }
   ],
   "source": [
    "#rot = np.load('/home/cat/tform.npy')\n",
    "print (rot)\n",
    "\n",
    "#fromm numpy.linalg import inv\n",
    "rot_inv = np.linalg.inv(rot[:3,:3])\n",
    "print (rot_inv)"
   ]
  },
  {
   "cell_type": "code",
   "execution_count": 9,
   "metadata": {},
   "outputs": [],
   "source": [
    "rot_inv = np.float32([\n",
    "    [ 3.2845,    0.0535,         0],\n",
    "    [-0.0535,    3.2845,         0],\n",
    "    [57.0638,   81.2616,    1.0000]    \n",
    "])"
   ]
  },
  {
   "cell_type": "code",
   "execution_count": 4,
   "metadata": {},
   "outputs": [
    {
     "name": "stdout",
     "output_type": "stream",
     "text": [
      "(50001, 128, 128)\n",
      "(50001, 128, 128)\n"
     ]
    }
   ],
   "source": [
    "#convert .tiff to npy. \n",
    "import os\n",
    "from skimage import io, exposure\n",
    "import numpy as np\n",
    "\n",
    "fname = '/media/cat/4TB_ephys/1TB/alex/Alexander McGirr - iGluSnFR_CSD_Cohort6_DC2/Cohort6_DC2/24Hrs/Spontaneous_1iso_150Hz_50000fr.tif'\n",
    "\n",
    "if os.path.exists(fname[:-4]+\".npy\")==False:\n",
    "\n",
    "    images = io.imread(fname, plugin='tifffile')\n",
    "    print (images.shape)\n",
    "    np.save(fname[:-4]+\".npy\", images)\n",
    "\n",
    "    images = np.float32(np.load(fname[:-4]+\".npy\"))\n",
    "else:\n",
    "    images = np.load(fname[:-4]+\".npy\")\n",
    "    \n",
    "print (images.shape)"
   ]
  },
  {
   "cell_type": "code",
   "execution_count": 9,
   "metadata": {},
   "outputs": [
    {
     "name": "stdout",
     "output_type": "stream",
     "text": [
      "119547037146038801333356\n"
     ]
    },
    {
     "ename": "AttributeError",
     "evalue": "'int' object has no attribute 'shape'",
     "output_type": "error",
     "traceback": [
      "\u001b[0;31m---------------------------------------------------------------------------\u001b[0m",
      "\u001b[0;31mAttributeError\u001b[0m                            Traceback (most recent call last)",
      "\u001b[0;32m<ipython-input-9-a1793c178a21>\u001b[0m in \u001b[0;36m<module>\u001b[0;34m()\u001b[0m\n\u001b[1;32m      9\u001b[0m \u001b[0mu\u001b[0m \u001b[0;34m=\u001b[0m \u001b[0mnp\u001b[0m\u001b[0;34m.\u001b[0m\u001b[0mload\u001b[0m\u001b[0;34m(\u001b[0m\u001b[0;34m'/media/cat/2TB/alex/Alexander McGirr - iGluSnFR_CSD_Cohort6_DC2/Cohort6_DC2/Baseline/Us_gpu.npy'\u001b[0m\u001b[0;34m,\u001b[0m \u001b[0mallow_pickle\u001b[0m\u001b[0;34m=\u001b[0m\u001b[0;32mTrue\u001b[0m\u001b[0;34m)\u001b[0m\u001b[0;34m\u001b[0m\u001b[0;34m\u001b[0m\u001b[0m\n\u001b[1;32m     10\u001b[0m \u001b[0;34m\u001b[0m\u001b[0m\n\u001b[0;32m---> 11\u001b[0;31m \u001b[0mprint\u001b[0m \u001b[0;34m(\u001b[0m\u001b[0;34m\"u: \"\u001b[0m\u001b[0;34m,\u001b[0m \u001b[0mu\u001b[0m\u001b[0;34m.\u001b[0m\u001b[0mshape\u001b[0m\u001b[0;34m)\u001b[0m\u001b[0;34m\u001b[0m\u001b[0;34m\u001b[0m\u001b[0m\n\u001b[0m\u001b[1;32m     12\u001b[0m \u001b[0mprint\u001b[0m \u001b[0;34m(\u001b[0m\u001b[0;34m\"s: \"\u001b[0m\u001b[0;34m,\u001b[0m \u001b[0ms\u001b[0m\u001b[0;34m.\u001b[0m\u001b[0mshape\u001b[0m\u001b[0;34m)\u001b[0m\u001b[0;34m\u001b[0m\u001b[0;34m\u001b[0m\u001b[0m\n\u001b[1;32m     13\u001b[0m \u001b[0mprint\u001b[0m \u001b[0;34m(\u001b[0m\u001b[0;34m\"v: \"\u001b[0m\u001b[0;34m,\u001b[0m \u001b[0mv\u001b[0m\u001b[0;34m.\u001b[0m\u001b[0mshape\u001b[0m\u001b[0;34m)\u001b[0m\u001b[0;34m\u001b[0m\u001b[0;34m\u001b[0m\u001b[0m\n",
      "\u001b[0;31mAttributeError\u001b[0m: 'int' object has no attribute 'shape'"
     ]
    }
   ],
   "source": [
    "# compute SVD on data \n",
    "root_dir = '/media/cat/2TB/alex/Alexander McGirr - iGluSnFR_CSD_Cohort6_DC2/Cohort6_DC2/24Hrs/'\n",
    "\n",
    "u = np.load(root_dir+'u_gpu.npy', allow_pickle=True)\n",
    "s = np.load(root_dir+'s_gpu.npy', allow_pickle=True)\n",
    "v = np.load(root_dir+'v_gpu.npy', allow_pickle=True)\n",
    "print (u)\n",
    "\n",
    "u = np.load('/media/cat/2TB/alex/Alexander McGirr - iGluSnFR_CSD_Cohort6_DC2/Cohort6_DC2/Baseline/Us_gpu.npy', allow_pickle=True)\n",
    "\n",
    "print (\"u: \", u.shape)\n",
    "print (\"s: \", s.shape)\n",
    "print (\"v: \", v.shape)\n",
    "\n",
    "# scale temporal component by singular vals\n",
    "#Us = (u*s).transpose(1,0).reshape(-1,128,128)\n",
    "\n",
    "torch.save(v,root_dir+'v_gpu.npy')\n",
    "torch.save(s,root_dir+'s_gpu.npy')\n",
    "torch.save(u,root_dir+'u_gpu.npy')\n"
   ]
  },
  {
   "cell_type": "code",
   "execution_count": null,
   "metadata": {},
   "outputs": [],
   "source": []
  }
 ],
 "metadata": {
  "kernelspec": {
   "display_name": "Python 3",
   "language": "python",
   "name": "python3"
  },
  "language_info": {
   "codemirror_mode": {
    "name": "ipython",
    "version": 3
   },
   "file_extension": ".py",
   "mimetype": "text/x-python",
   "name": "python",
   "nbconvert_exporter": "python",
   "pygments_lexer": "ipython3",
   "version": "3.7.6"
  }
 },
 "nbformat": 4,
 "nbformat_minor": 2
}
